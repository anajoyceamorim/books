{
 "cells": [
  {
   "cell_type": "markdown",
   "metadata": {},
   "source": [
    "## Recursão\n",
    "\"Os loops podem melhorar o desempanho do seu programa. A recursão melhora o desempenho do seu programador. Escolha o que for mais importante para a sua situação.\" Leight Caldwell (Stack Overflow)  \n",
    "\n",
    "## Caso Base e caso recursivo\n",
    "- Caso base: quando a função não chama a si mesma novamente. De forma que o programa não se torne um loop.\n",
    "- Caso recursivo: qunado a função chama a si mesma."
   ]
  },
  {
   "cell_type": "code",
   "execution_count": null,
   "metadata": {},
   "outputs": [],
   "source": [
    "def regressiva(i):\n",
    "    print(i)\n",
    "    if i <= 1:\n",
    "        return\n",
    "    else:\n",
    "        regressiva(i-1)\n",
    "\n",
    "print(regressiva(10))\n"
   ]
  }
 ],
 "metadata": {
  "kernelspec": {
   "display_name": "Python 3",
   "language": "python",
   "name": "python3"
  },
  "language_info": {
   "codemirror_mode": {
    "name": "ipython",
    "version": 3
   },
   "file_extension": ".py",
   "mimetype": "text/x-python",
   "name": "python",
   "nbconvert_exporter": "python",
   "pygments_lexer": "ipython3",
   "version": "3.10.12"
  }
 },
 "nbformat": 4,
 "nbformat_minor": 2
}
