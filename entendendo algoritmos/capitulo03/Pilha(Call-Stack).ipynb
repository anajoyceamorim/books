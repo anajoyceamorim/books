{
 "cells": [
  {
   "cell_type": "markdown",
   "metadata": {},
   "source": [
    "## A pilha (call stack)\n",
    "Na pilha as terefas são adicionadas no início, e a primeira tarefa a ser retirada é a do início.\n",
    "Logo a lista de afazeres contém apenas duas opções: push (inserir) e pop (remover e ler)"
   ]
  },
  {
   "cell_type": "code",
   "execution_count": null,
   "metadata": {},
   "outputs": [],
   "source": [
    "def sauda(nome):\n",
    "    print(\"Olá, \" + nome + \"!\")\n",
    "    sauda2(nome)\n",
    "    print(\"preparando para dizer tchau...\")\n",
    "    tchau()\n",
    "\n",
    "def sauda2(nome):\n",
    "    print (\"Como vai \" + nome + \"?\")\n",
    "\n",
    "def tchau():\n",
    "    print(\"ok, tchau!\")\n",
    "\n",
    "print(sauda(\"Ana Joyce\"))"
   ]
  },
  {
   "cell_type": "markdown",
   "metadata": {},
   "source": [
    "A função acima funciona da seguinte forma:  \n",
    "chama sauda:  \n",
    "[nome]  \n",
    "empilha sauda:  \n",
    "[sauda]  \n",
    "[nome]  \n",
    "imprime o print, então chama sauda2:  \n",
    "[sauda2]  \n",
    "[nome]  \n",
    "[sauda]  \n",
    "[nome]  \n",
    "Então a função Sauda2 não é mais necessária:  \n",
    "[sauda]  \n",
    "[nome]  \n",
    "Imprime o print, e chama função tchau:  \n",
    "[tchau]  \n",
    "[sauda]  \n",
    "[nome]  \n",
    "executa tchau, e retorna a função anterior:\n",
    "[sauda]  \n",
    "[nome]  \n",
    "Fim do programa!\n",
    "\n",
    "## Exercícios\n",
    "\n",
    "3.1  \n",
    "a função está em pausa, e o função sauda2 está em execução.\n",
    "\n",
    "## A pilha de chamada com recursão\n",
    "As funções recursivas também utilizam a pilha de chamada!\n"
   ]
  },
  {
   "cell_type": "code",
   "execution_count": null,
   "metadata": {},
   "outputs": [],
   "source": [
    "def fat (x):\n",
    "    if x == 1:\n",
    "        return 1\n",
    "    else:\n",
    "        return x * fat(x-1)\n",
    "\n",
    "print(fat(3))"
   ]
  },
  {
   "cell_type": "markdown",
   "metadata": {},
   "source": [
    "## Análise\n",
    "1ª chamada:  \n",
    "fat(3)  \n",
    "[fat]  \n",
    "[x=3]  \n",
    "2ª chamada recursiva:  \n",
    "return x * fat(x-1)  \n",
    "[fat]  \n",
    "[x=2]  \n",
    "[fat]  \n",
    "[x=3]  \n",
    "3ª chamada recursiva:  \n",
    "return x * fat(x-1)  \n",
    "[fat]  \n",
    "[x=1]  \n",
    "[fat]  \n",
    "[x=2]  \n",
    "[fat]  \n",
    "[x=3]  \n",
    "Finalizaçõa das chamadas  \n",
    "x = 1  \n",
    "return 1  \n",
    "[fat]  \n",
    "[x=2]  \n",
    "[fat]  \n",
    "[x=3]  \n",
    "return 2  \n",
    "[fat]\n",
    "[x=3]\n",
    "return 6  \n",
    "\n",
    "## Exercícios  \n",
    "3.2  \n",
    "a pilha estoura (overflow)  "
   ]
  }
 ],
 "metadata": {
  "kernelspec": {
   "display_name": "Python 3",
   "language": "python",
   "name": "python3"
  },
  "language_info": {
   "codemirror_mode": {
    "name": "ipython",
    "version": 3
   },
   "file_extension": ".py",
   "mimetype": "text/x-python",
   "name": "python",
   "nbconvert_exporter": "python",
   "pygments_lexer": "ipython3",
   "version": "3.10.12"
  }
 },
 "nbformat": 4,
 "nbformat_minor": 2
}
