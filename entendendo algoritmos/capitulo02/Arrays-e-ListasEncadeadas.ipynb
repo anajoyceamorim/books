{
 "cells": [
  {
   "cell_type": "markdown",
   "metadata": {},
   "source": [
    "## Alocação de mémoria\n",
    "- Arrays: uma mémoria é armazenada seguida da outra, caso eu precise adicionar um novo elemento vai ser necessário, criar um novo vetor, com mais memória, e copiar meus antigos elementos para ele.  \n",
    "- Listas encadeadas: utiliza um espaço de memória disponível, não necessariamente o próximo, mas o que está livre, funciona como uma caça ao tesouro, meu endereço aponta para o próximo e assim por diante.\n",
    "\n",
    "## Acesso ao elemento\n",
    "Em arrays o acesso é direto, já em listas encadeadas eu preciso percorrer toda a minha lista.\n",
    "\n",
    "## Exercícios\n",
    "2.1 Suponha que você esteja criando um aplicativo para acompanhar as suas finanças. Todos os dias você anotará tudo o que gastou e onde gastou. No final do mês, você deverá revisar os seus gastos e resumir o quanto gastou. Logo, você terá um monte de inserções e poucas leituras. Você deverá usar um array ou uma lista para implementar este aplicativo?  \n",
    "RESPOSTA:  \n",
    "Uma lista  \n",
    "2.2 Suponha que você esteja criando um aplicativo para anotar os pedidos dos clientes em um restaurante. Seu aplicativo precisa de uma lista de pedidos. Os garçons adicionam os pedidos a essa lista e os chefes retiram os pedidos da lista. Funciona como uma fila. Os garçons colocam os pedidos no final da fila e os chefes retiram os pedidos do começo dela para cozinhá-los. Você usaria um array ou uma lista encadeada para implementar essa lista? (Dica: listas encadeadas são boas para inserções/eliminações e arrays são bons para acesso aleatório. O que fazer neste caso?)  \n",
    "RESPOSTA:  \n",
    "Listas encadeadas (Filas)\n",
    "\n",
    "2.3  \n",
    "array oredenado  \n",
    "2.4  \n",
    "as inserções serão mais lentas, precisa verificar se tem espaço, as vezes é necessário realocar coisas que já estão listas...  \n",
    "2.5  \n",
    "Buscas: mais lentas que arrays, mais rápido que le  \n",
    "Inserções: Mais rápida que array, mesmo tempo que le  \n"
   ]
  }
 ],
 "metadata": {
  "language_info": {
   "name": "python"
  }
 },
 "nbformat": 4,
 "nbformat_minor": 2
}
