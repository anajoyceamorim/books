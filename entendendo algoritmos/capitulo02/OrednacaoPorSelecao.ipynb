{
 "cells": [
  {
   "cell_type": "markdown",
   "metadata": {},
   "source": [
    "## Ordenação Por Seleção\n",
    "Selecionar o maior ou menor, ordenar por ele (colocando em um novo vetor) e assim por diante."
   ]
  },
  {
   "cell_type": "code",
   "execution_count": 1,
   "metadata": {},
   "outputs": [
    {
     "name": "stdout",
     "output_type": "stream",
     "text": [
      "[2, 3, 5, 6, 10]\n"
     ]
    }
   ],
   "source": [
    "def buscaMenor(arr):\n",
    "    menor = arr[0]\n",
    "    menor_indice = 0\n",
    "    for i in range(1, len(arr)):\n",
    "        if arr[i] < menor:\n",
    "            menor = arr[i]\n",
    "            menor_indice = i\n",
    "    return menor_indice\n",
    "\n",
    "def ordenacaoPorSelecao(arr):\n",
    "    novoArr = []\n",
    "    for i in range(len(arr)):\n",
    "        menor = buscaMenor(arr)\n",
    "        novoArr.append(arr.pop(menor))\n",
    "    return novoArr\n",
    "\n",
    "print(ordenacaoPorSelecao([5, 3, 6, 2, 10]))\n"
   ]
  }
 ],
 "metadata": {
  "kernelspec": {
   "display_name": "Python 3",
   "language": "python",
   "name": "python3"
  },
  "language_info": {
   "codemirror_mode": {
    "name": "ipython",
    "version": 3
   },
   "file_extension": ".py",
   "mimetype": "text/x-python",
   "name": "python",
   "nbconvert_exporter": "python",
   "pygments_lexer": "ipython3",
   "version": "3.10.12"
  }
 },
 "nbformat": 4,
 "nbformat_minor": 2
}
