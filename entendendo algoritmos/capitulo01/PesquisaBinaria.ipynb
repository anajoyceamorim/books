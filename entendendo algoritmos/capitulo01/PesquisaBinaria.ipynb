{
 "cells": [
  {
   "cell_type": "markdown",
   "metadata": {},
   "source": [
    "## Pesquisa binária\n",
    "Algoritmo para busca eficiente, utiliza a técnica do dividir para conquistar.\n",
    "\n",
    "### Atenção\n",
    "Somente funciona se a lista estiver ordenada."
   ]
  },
  {
   "cell_type": "code",
   "execution_count": null,
   "metadata": {},
   "outputs": [],
   "source": [
    "def binary_search(array, item):\n",
    "    start = 0 \n",
    "    end = len(array) - 1\n",
    "    while start <= end:\n",
    "        middle = (end + start) // 2\n",
    "        kick = array[middle]\n",
    "        if (kick == item):\n",
    "            return middle;\n",
    "        if kick > item:\n",
    "            end = middle - 1\n",
    "        else:\n",
    "            start = middle + 1\n",
    "    return None\n",
    "\n",
    "my_list = [1, 3, 5, 9]\n",
    "print (binary_search(my_list, 3)) # => 1\n",
    "print (binary_search(my_list, -1)) # => None"
   ]
  },
  {
   "cell_type": "markdown",
   "metadata": {},
   "source": [
    "## Exercícios\n",
    "### gabarito: pág 325 do PDF\n",
    "### pág: 30 do PDF\n",
    "\n",
    "1.1 Suponha que você tenha uma lista com 128 nomes e esteja fazendo uma pesquisa binária. Qual seria o número máximo de etapas que você levaria para encontrar o nome desejado?\n",
    "RESPOSTA:\n",
    "[128 // 2] 1ª etapa\n",
    "[62 // 2] 2ª etapa\n",
    "[32 // 2] 3ª etapa\n",
    "[16 // 2] 4ª etapa\n",
    "[8 // 2] 5ª etapa\n",
    "[4 // 2] 6ª etapa\n",
    "[2 // 2] 7ª etapa\n",
    "\n",
    "1.2 Suponha que você duplique o tamanho da lista. Qual seria o número máximo de etapas agora?\n",
    "RESPOSTA:\n",
    "128 * 2 = 256\n",
    "adiciona uma etapa, ou seja 8 etapas\n"
   ]
  }
 ],
 "metadata": {
  "kernelspec": {
   "display_name": "Python 3",
   "language": "python",
   "name": "python3"
  },
  "language_info": {
   "codemirror_mode": {
    "name": "ipython",
    "version": 3
   },
   "file_extension": ".py",
   "mimetype": "text/x-python",
   "name": "python",
   "nbconvert_exporter": "python",
   "pygments_lexer": "ipython3",
   "version": "3.10.12"
  }
 },
 "nbformat": 4,
 "nbformat_minor": 2
}
