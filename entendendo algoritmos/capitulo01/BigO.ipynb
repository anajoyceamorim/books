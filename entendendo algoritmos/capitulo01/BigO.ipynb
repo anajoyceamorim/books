{
 "cells": [
  {
   "cell_type": "markdown",
   "metadata": {},
   "source": [
    "## Notação Big O\n",
    "A noyação Big O não fornece o tempo em segundos, ela permite que você compare o número de operações. Ela informa o quão rapidamente um algoritmo cresce.\n",
    "\n",
    "### A notação Big O estabelece o tempo de execução para a pior hipótese\n",
    " - O(log n), tempo logarítmico;\n",
    " - O(n), tempo linear;\n",
    " - O(n * log n), linearítmico;\n",
    " - O(n²), quadratico;\n",
    " - O(n!), fatorial.\n",
    "\n",
    " ## Resumo:\n",
    " - A rapidez de um algoritmo não é medida em segundos, mas pelo crescimento do número de operações.\n",
    " -O(log n) é mais rápido do que O(n), e O(log n) fica mais rápido conforme a lista aumenta.\n",
    "\n",
    " ## Exercícios:\n",
    " Forneça o tempo de execução para cada um dos casos a seguir em termos da notação Big O.  \n",
    "   \n",
    " 1.3 Você tem um nome e deseja encontrar o número de telefone para esse nome em uma agenda telefônica.  \n",
    " RESPOSTA:  \n",
    " A lista telefônica é ordenada então O(log n)  \n",
    "   \n",
    " 1.4 Você tem um número de telefone e deseja encontrar o dono dele em uma agenda telefônica. (Dica: Deve procurar pela agenda inteira!)  \n",
    " RESPOSTA:  \n",
    " Os números de telefone não estão ordenados, entaõ O(n)  \n",
    "   \n",
    " 1.5 Você quer ler o número de cada pessoa da agenda telefônica.  \n",
    " RESPOSTA:  \n",
    " Terie de passar pela a genda linearmente então O(n)  \n",
    "   \n",
    "1.6 Você quer ler os números apenas dos nomes que começam com A. (Isso é complicado! Esse algoritmo envolve conceitos que são abordados mais profundamente no Capítulo 4. Leia a resposta – você ficará surpreso!)  \n",
    "RESPOSTA:  \n",
    "O(n). Você pode pensar: “Só estou fazendo isso para 1 dentre 26 caracteres, portanto o tempo de execução deve ser O(n/26).” Uma regra simples é a de ignorar números que são somados, subtraídos, multiplicados ou divididos. Nenhum desses são tempos de execução Big O: O(n + 26), O(n - 26), O(n * 26), O(n / 26). Eles são todos o mesmo que O(n)! Por quê? Se você está com dúvidas, vá para “Notação Big O revisada”, no Capítulo 4, e leia a parte sobre constantes na notação Big O (uma constante é apenas um número; 26 era a constante desta questão).\n"
   ]
  }
 ],
 "metadata": {
  "language_info": {
   "name": "python"
  }
 },
 "nbformat": 4,
 "nbformat_minor": 2
}
