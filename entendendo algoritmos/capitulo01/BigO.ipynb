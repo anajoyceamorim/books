{
 "cells": [
  {
   "cell_type": "markdown",
   "metadata": {},
   "source": [
    "## Notação Big O\n",
    "A noyação Big O não fornece o tempo em segundos, ela permite que você compare o número de operações. Ela informa o quão rapidamente um algoritmo cresce.\n",
    "\n",
    "### A notação Big O estabelece o tempo de execução para a pior hipótese\n",
    " - O(log n), tempo logarítmico;\n",
    " - O(n), tempo linear;\n",
    " - O(n * log n), linearítmico;\n",
    " - O(n²), quadratico;\n",
    " - O(n!), fatorial.\n",
    "\n",
    " ### break point: pg 39\n"
   ]
  }
 ],
 "metadata": {
  "language_info": {
   "name": "python"
  }
 },
 "nbformat": 4,
 "nbformat_minor": 2
}
